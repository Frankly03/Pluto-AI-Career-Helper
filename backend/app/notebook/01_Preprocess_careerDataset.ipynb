{
 "cells": [
  {
   "cell_type": "code",
   "execution_count": 53,
   "id": "e8495ca6",
   "metadata": {},
   "outputs": [],
   "source": [
    "import pandas as pd \n",
    "import json"
   ]
  },
  {
   "cell_type": "code",
   "execution_count": 54,
   "id": "c03859af",
   "metadata": {},
   "outputs": [
    {
     "data": {
      "application/vnd.microsoft.datawrangler.viewer.v0+json": {
       "columns": [
        {
         "name": "index",
         "rawType": "int64",
         "type": "integer"
        },
        {
         "name": "Career",
         "rawType": "object",
         "type": "string"
        },
        {
         "name": "Job Title",
         "rawType": "object",
         "type": "string"
        },
        {
         "name": "Tagline",
         "rawType": "object",
         "type": "string"
        },
        {
         "name": "Description",
         "rawType": "object",
         "type": "string"
        },
        {
         "name": "Personality (RIASEC Codes)",
         "rawType": "object",
         "type": "string"
        },
        {
         "name": "Interest Tags1",
         "rawType": "object",
         "type": "string"
        },
        {
         "name": "Skills",
         "rawType": "object",
         "type": "string"
        },
        {
         "name": "Field",
         "rawType": "object",
         "type": "string"
        },
        {
         "name": "TECH/NON TECH",
         "rawType": "object",
         "type": "string"
        },
        {
         "name": "Creativity/nocreative",
         "rawType": "object",
         "type": "string"
        },
        {
         "name": "Interest Tags2",
         "rawType": "object",
         "type": "string"
        }
       ],
       "ref": "97e56807-1e95-4eec-bef8-be26d46ff98a",
       "rows": [
        [
         "0",
         "AI/ML",
         "ML Engineer",
         "Builds intelligent models that learn from data to automate predictions.",
         "Designs, builds, and deploys machine learning models. Works with large datasets, algorithms, and programming languages to create intelligent systems that can learn and make predictions. Focuses on the engineering and deployment of AI models.",
         "IAR",
         "Machine Learning|Artificial Intelligence|Data Science|Programming|Algorithms|Problem Solving|Predictive Modeling",
         "Python, TensorFlow, PyTorch, Scikit-learn, Data Engineering, MLOps, Cloud Computing",
         "Tech",
         "Tech",
         "No Creativity",
         "Machine Learning, Algorithms, Python, Statistics, Model Training, Data Engineering"
        ],
        [
         "1",
         "AI/ML",
         "AI Engineer",
         "Designs AI-powered systems that simulate human intelligence.",
         "Develops and implements artificial intelligence systems and applications. Focuses on creating intelligent agents that can perceive, reason, learn, and act. Involves various AI techniques beyond just machine learning.",
         "IRC",
         "Artificial Intelligence|Machine Learning|Robotics|Problem Solving|Programming|Innovation|Research",
         "Python, Java, C++, Machine Learning, Deep Learning, Natural Language Processing (NLP), Computer Vision, AI Frameworks",
         "Tech",
         "Tech",
         "No Creativity",
         "Artificial Intelligence, Deep Learning, Neural Networks, Python, Automation, Cloud AI"
        ],
        [
         "2",
         "AI/ML",
         "NLP Engineer",
         "Teaches machines to understand and generate human language.",
         "Specializes in developing systems that enable computers to understand, interpret, and generate human language. Works on tasks like text analysis, sentiment analysis, machine translation, and chatbots.",
         "ISA",
         "Natural Language Processing|Linguistics|Artificial Intelligence|Text Analysis|Programming|Communication|Data Science",
         "Python, NLTK, spaCy, Transformers, Machine Learning, Text Mining, Computational Linguistics",
         "Tech",
         "Tech",
         "No Creativity",
         "NLP, Linguistics, Text Mining, Transformers, Chatbots, BERT/GPT"
        ],
        [
         "3",
         "AI/ML",
         "Computer Vision Engineer",
         "Gives machines the power to “see” and interpret images and videos.",
         "Focuses on developing systems that can 'see' and interpret images and videos. Works on applications like object detection, facial recognition, and image analysis. Requires strong understanding of image processing and deep learning.",
         "IRC",
         "Computer Vision|Image Processing|Artificial Intelligence|Machine Learning|Pattern Recognition|Programming|Robotics",
         "Python, OpenCV, TensorFlow, PyTorch, Deep Learning, Image Analysis, Signal Processing",
         "Tech",
         "Tech",
         "No Creativity",
         "Computer Vision, Image Processing, OpenCV, Deep Learning, Cameras, AI"
        ],
        [
         "4",
         "AI/ML and Research",
         "AI Research Scientist",
         "Pushes the boundaries of AI through advanced research and experimentation.",
         "Conducts research to advance the state-of-the-art in artificial intelligence. Explores new algorithms, models, and theoretical concepts. Often requires advanced degrees and a strong academic background.",
         "IRC",
         "Artificial Intelligence|Machine Learning|Research|Algorithms|Mathematics|Problem Solving|Innovation",
         "Deep Learning, Reinforcement Learning, Bayesian Methods, Statistical Modeling, Python, Research Methodologies",
         "Tech",
         "Tech",
         "No Creativity",
         "Machine Learning, Research, Academic Papers, Algorithms, Data Science, Innovation"
        ]
       ],
       "shape": {
        "columns": 11,
        "rows": 5
       }
      },
      "text/html": [
       "<div>\n",
       "<style scoped>\n",
       "    .dataframe tbody tr th:only-of-type {\n",
       "        vertical-align: middle;\n",
       "    }\n",
       "\n",
       "    .dataframe tbody tr th {\n",
       "        vertical-align: top;\n",
       "    }\n",
       "\n",
       "    .dataframe thead th {\n",
       "        text-align: right;\n",
       "    }\n",
       "</style>\n",
       "<table border=\"1\" class=\"dataframe\">\n",
       "  <thead>\n",
       "    <tr style=\"text-align: right;\">\n",
       "      <th></th>\n",
       "      <th>Career</th>\n",
       "      <th>Job Title</th>\n",
       "      <th>Tagline</th>\n",
       "      <th>Description</th>\n",
       "      <th>Personality (RIASEC Codes)</th>\n",
       "      <th>Interest Tags1</th>\n",
       "      <th>Skills</th>\n",
       "      <th>Field</th>\n",
       "      <th>TECH/NON TECH</th>\n",
       "      <th>Creativity/nocreative</th>\n",
       "      <th>Interest Tags2</th>\n",
       "    </tr>\n",
       "  </thead>\n",
       "  <tbody>\n",
       "    <tr>\n",
       "      <th>0</th>\n",
       "      <td>AI/ML</td>\n",
       "      <td>ML Engineer</td>\n",
       "      <td>Builds intelligent models that learn from data...</td>\n",
       "      <td>Designs, builds, and deploys machine learning ...</td>\n",
       "      <td>IAR</td>\n",
       "      <td>Machine Learning|Artificial Intelligence|Data ...</td>\n",
       "      <td>Python, TensorFlow, PyTorch, Scikit-learn, Dat...</td>\n",
       "      <td>Tech</td>\n",
       "      <td>Tech</td>\n",
       "      <td>No Creativity</td>\n",
       "      <td>Machine Learning, Algorithms, Python, Statisti...</td>\n",
       "    </tr>\n",
       "    <tr>\n",
       "      <th>1</th>\n",
       "      <td>AI/ML</td>\n",
       "      <td>AI Engineer</td>\n",
       "      <td>Designs AI-powered systems that simulate human...</td>\n",
       "      <td>Develops and implements artificial intelligenc...</td>\n",
       "      <td>IRC</td>\n",
       "      <td>Artificial Intelligence|Machine Learning|Robot...</td>\n",
       "      <td>Python, Java, C++, Machine Learning, Deep Lear...</td>\n",
       "      <td>Tech</td>\n",
       "      <td>Tech</td>\n",
       "      <td>No Creativity</td>\n",
       "      <td>Artificial Intelligence, Deep Learning, Neural...</td>\n",
       "    </tr>\n",
       "    <tr>\n",
       "      <th>2</th>\n",
       "      <td>AI/ML</td>\n",
       "      <td>NLP Engineer</td>\n",
       "      <td>Teaches machines to understand and generate hu...</td>\n",
       "      <td>Specializes in developing systems that enable ...</td>\n",
       "      <td>ISA</td>\n",
       "      <td>Natural Language Processing|Linguistics|Artifi...</td>\n",
       "      <td>Python, NLTK, spaCy, Transformers, Machine Lea...</td>\n",
       "      <td>Tech</td>\n",
       "      <td>Tech</td>\n",
       "      <td>No Creativity</td>\n",
       "      <td>NLP, Linguistics, Text Mining, Transformers, C...</td>\n",
       "    </tr>\n",
       "    <tr>\n",
       "      <th>3</th>\n",
       "      <td>AI/ML</td>\n",
       "      <td>Computer Vision Engineer</td>\n",
       "      <td>Gives machines the power to “see” and interpre...</td>\n",
       "      <td>Focuses on developing systems that can 'see' a...</td>\n",
       "      <td>IRC</td>\n",
       "      <td>Computer Vision|Image Processing|Artificial In...</td>\n",
       "      <td>Python, OpenCV, TensorFlow, PyTorch, Deep Lear...</td>\n",
       "      <td>Tech</td>\n",
       "      <td>Tech</td>\n",
       "      <td>No Creativity</td>\n",
       "      <td>Computer Vision, Image Processing, OpenCV, Dee...</td>\n",
       "    </tr>\n",
       "    <tr>\n",
       "      <th>4</th>\n",
       "      <td>AI/ML and Research</td>\n",
       "      <td>AI Research Scientist</td>\n",
       "      <td>Pushes the boundaries of AI through advanced r...</td>\n",
       "      <td>Conducts research to advance the state-of-the-...</td>\n",
       "      <td>IRC</td>\n",
       "      <td>Artificial Intelligence|Machine Learning|Resea...</td>\n",
       "      <td>Deep Learning, Reinforcement Learning, Bayesia...</td>\n",
       "      <td>Tech</td>\n",
       "      <td>Tech</td>\n",
       "      <td>No Creativity</td>\n",
       "      <td>Machine Learning, Research, Academic Papers, A...</td>\n",
       "    </tr>\n",
       "  </tbody>\n",
       "</table>\n",
       "</div>"
      ],
      "text/plain": [
       "               Career                 Job Title  \\\n",
       "0               AI/ML               ML Engineer   \n",
       "1               AI/ML               AI Engineer   \n",
       "2               AI/ML              NLP Engineer   \n",
       "3               AI/ML  Computer Vision Engineer   \n",
       "4  AI/ML and Research     AI Research Scientist   \n",
       "\n",
       "                                             Tagline  \\\n",
       "0  Builds intelligent models that learn from data...   \n",
       "1  Designs AI-powered systems that simulate human...   \n",
       "2  Teaches machines to understand and generate hu...   \n",
       "3  Gives machines the power to “see” and interpre...   \n",
       "4  Pushes the boundaries of AI through advanced r...   \n",
       "\n",
       "                                         Description  \\\n",
       "0  Designs, builds, and deploys machine learning ...   \n",
       "1  Develops and implements artificial intelligenc...   \n",
       "2  Specializes in developing systems that enable ...   \n",
       "3  Focuses on developing systems that can 'see' a...   \n",
       "4  Conducts research to advance the state-of-the-...   \n",
       "\n",
       "  Personality (RIASEC Codes)  \\\n",
       "0                        IAR   \n",
       "1                        IRC   \n",
       "2                        ISA   \n",
       "3                        IRC   \n",
       "4                        IRC   \n",
       "\n",
       "                                      Interest Tags1  \\\n",
       "0  Machine Learning|Artificial Intelligence|Data ...   \n",
       "1  Artificial Intelligence|Machine Learning|Robot...   \n",
       "2  Natural Language Processing|Linguistics|Artifi...   \n",
       "3  Computer Vision|Image Processing|Artificial In...   \n",
       "4  Artificial Intelligence|Machine Learning|Resea...   \n",
       "\n",
       "                                              Skills Field TECH/NON TECH  \\\n",
       "0  Python, TensorFlow, PyTorch, Scikit-learn, Dat...  Tech          Tech   \n",
       "1  Python, Java, C++, Machine Learning, Deep Lear...  Tech          Tech   \n",
       "2  Python, NLTK, spaCy, Transformers, Machine Lea...  Tech          Tech   \n",
       "3  Python, OpenCV, TensorFlow, PyTorch, Deep Lear...  Tech          Tech   \n",
       "4  Deep Learning, Reinforcement Learning, Bayesia...  Tech          Tech   \n",
       "\n",
       "  Creativity/nocreative                                     Interest Tags2  \n",
       "0         No Creativity  Machine Learning, Algorithms, Python, Statisti...  \n",
       "1         No Creativity  Artificial Intelligence, Deep Learning, Neural...  \n",
       "2         No Creativity  NLP, Linguistics, Text Mining, Transformers, C...  \n",
       "3         No Creativity  Computer Vision, Image Processing, OpenCV, Dee...  \n",
       "4         No Creativity  Machine Learning, Research, Academic Papers, A...  "
      ]
     },
     "execution_count": 54,
     "metadata": {},
     "output_type": "execute_result"
    }
   ],
   "source": [
    "df = pd.read_excel('../data/career_data_excel.xlsx')\n",
    "df.head()"
   ]
  },
  {
   "cell_type": "code",
   "execution_count": 55,
   "id": "da176667",
   "metadata": {},
   "outputs": [
    {
     "data": {
      "text/plain": [
       "Index(['Career', 'Job Title', 'Tagline', 'Description',\n",
       "       'Personality (RIASEC Codes)', 'Interest Tags1', 'Skills', 'Field',\n",
       "       'TECH/NON TECH', 'Creativity/nocreative', 'Interest Tags2'],\n",
       "      dtype='object')"
      ]
     },
     "execution_count": 55,
     "metadata": {},
     "output_type": "execute_result"
    }
   ],
   "source": [
    "df.columns"
   ]
  },
  {
   "cell_type": "code",
   "execution_count": 56,
   "id": "e43eddd8",
   "metadata": {},
   "outputs": [
    {
     "data": {
      "text/plain": [
       "Index(['career', 'job_title', 'tagline', 'desc', 'personality',\n",
       "       'interest_tags1', 'skills', 'field', 'tech', 'creativity',\n",
       "       'interest_tags2'],\n",
       "      dtype='object')"
      ]
     },
     "execution_count": 56,
     "metadata": {},
     "output_type": "execute_result"
    }
   ],
   "source": [
    "df = df.rename(columns={\n",
    "    'Career': 'career',\n",
    "    'Job Title': 'job_title',\n",
    "    'Tagline': 'tagline',\n",
    "    'Description': 'desc',\n",
    "    'Personality (RIASEC Codes)': 'personality',\n",
    "    'Interest Tags1': 'interest_tags1',\n",
    "    'Skills': 'skills',\n",
    "    'Field': 'field',\n",
    "    'TECH/NON TECH': 'tech',\n",
    "    'Creativity/nocreative': 'creativity',\n",
    "    'Interest Tags2': \"interest_tags2\"\n",
    "})\n",
    "df.columns"
   ]
  },
  {
   "cell_type": "code",
   "execution_count": 57,
   "id": "7bddc389",
   "metadata": {},
   "outputs": [
    {
     "data": {
      "text/plain": [
       "np.int64(0)"
      ]
     },
     "execution_count": 57,
     "metadata": {},
     "output_type": "execute_result"
    }
   ],
   "source": [
    "df['job_title'].duplicated().sum()"
   ]
  },
  {
   "cell_type": "code",
   "execution_count": 58,
   "id": "12727b8d",
   "metadata": {},
   "outputs": [
    {
     "data": {
      "application/vnd.microsoft.datawrangler.viewer.v0+json": {
       "columns": [
        {
         "name": "index",
         "rawType": "int64",
         "type": "integer"
        },
        {
         "name": "interest_tags1",
         "rawType": "object",
         "type": "unknown"
        }
       ],
       "ref": "8956720b-2bf9-43e2-8716-ed6b6342599a",
       "rows": [
        [
         "0",
         "['Machine Learning', 'Artificial Intelligence', 'Data Science', 'Programming', 'Algorithms', 'Problem Solving', 'Predictive Modeling']"
        ],
        [
         "1",
         "['Artificial Intelligence', 'Machine Learning', 'Robotics', 'Problem Solving', 'Programming', 'Innovation', 'Research']"
        ],
        [
         "2",
         "['Natural Language Processing', 'Linguistics', 'Artificial Intelligence', 'Text Analysis', 'Programming', 'Communication', 'Data Science']"
        ],
        [
         "3",
         "['Computer Vision', 'Image Processing', 'Artificial Intelligence', 'Machine Learning', 'Pattern Recognition', 'Programming', 'Robotics']"
        ],
        [
         "4",
         "['Artificial Intelligence', 'Machine Learning', 'Research', 'Algorithms', 'Mathematics', 'Problem Solving', 'Innovation']"
        ],
        [
         "5",
         "['Applied Research', 'Machine Learning', 'Data Science', 'Experimentation', 'Problem Solving', 'Innovation', 'Programming']"
        ],
        [
         "6",
         "['Robotics', 'Programming', 'Engineering', 'Artificial Intelligence', 'Problem Solving', 'Automation', 'Systems Integration']"
        ],
        [
         "7",
         "['Data Science', 'Data Analysis', 'Machine Learning', 'Statistics', 'Programming', 'Problem Solving', 'Communication']"
        ],
        [
         "8",
         "['Data Analysis', 'Data Visualization', 'Statistics', 'Problem Solving', 'Reporting', 'Business Intelligence', 'Attention to Detail']"
        ],
        [
         "9",
         "['Data Engineering', 'Databases', 'Big Data', 'ETL', 'Cloud Computing', 'Programming', 'System Design']"
        ],
        [
         "10",
         "['Business Intelligence', 'Data Warehousing', 'Data Visualization', 'SQL', 'Reporting', 'Analysis', 'Business Acumen']"
        ],
        [
         "11",
         "['Big Data', 'Data Engineering', 'Distributed Systems', 'Cloud Computing', 'Programming', 'Problem Solving', 'Scalability']"
        ],
        [
         "12",
         "['Software Development', 'Programming', 'Problem Solving', 'System Design', 'Algorithms', 'Testing', 'Building Applications']"
        ],
        [
         "13",
         "['Programming', 'Coding', 'Problem Solving', 'Software Development', 'Logic', 'Testing', 'Building Applications']"
        ],
        [
         "14",
         "['Mobile Development', 'Android Development', 'iOS Development', 'Programming', 'App Design', 'Problem Solving', 'User Interface (UI)', 'Technology']"
        ],
        [
         "15",
         "['Software Architecture', 'System Design', 'Technical Leadership', 'Problem Solving', 'Planning', 'Technology', 'Innovation']"
        ],
        [
         "16",
         "['Technical Leadership', 'Team Management', 'Programming', 'Mentoring', 'Problem Solving', 'Code Review', 'Architecture']"
        ],
        [
         "17",
         "['Engineering Management', 'Team Leadership', 'Project Management', 'People Management', 'Software Development Life Cycle (SDLC)', 'Strategy', 'Communication']"
        ],
        [
         "18",
         "['Blockchain', 'Cryptocurrency', 'Decentralization', 'Programming', 'Security', 'Innovation', 'Finance (related)']"
        ],
        [
         "19",
         "['API Development', 'Programming', 'System Integration', 'Problem Solving', 'Web Services', 'Communication', 'Data Exchange']"
        ],
        [
         "20",
         "['Web Development', 'Programming', 'Problem Solving', 'Design', 'Databases', 'APIs', 'Building Applications']"
        ],
        [
         "21",
         "['Web Design', 'User Interface (UI)', 'User Experience (UX)', 'Programming', 'Visual Arts', 'Creativity', 'Interaction Design']"
        ],
        [
         "22",
         "['Programming', 'Databases', 'Server Management', 'APIs', 'Problem Solving', 'System Design', 'Security']"
        ],
        [
         "23",
         "['web Development', 'Web Design', 'Visual Design', 'Technology', 'Creativity', 'Problem Solving', 'Digital Tools']"
        ],
        [
         "24",
         "['User Interface (UI)', 'Web Development', 'Design Implementation', 'Attention to Detail', 'Front End', 'Design']"
        ],
        [
         "25",
         "['User Experience (UX)', 'User Research', 'Design Thinking', 'Problem Solving', 'Information Architecture', 'Prototyping', 'Empathy']"
        ],
        [
         "26",
         "['Cybersecurity', 'Network Security', 'Threat Detection', 'Analysis', 'Problem Solving', 'Risk Management', 'Incident Response']"
        ],
        [
         "27",
         "['Ethical Hacking', 'Penetration Testing', 'Security Assessment', 'Problem Solving', 'Networks', 'Exploits', 'Investigation']"
        ],
        [
         "28",
         "['Security Architecture', 'System Design', 'Cybersecurity', 'Risk Management', 'Compliance', 'Planning', 'Networks']"
        ],
        [
         "29",
         "['Cloud Security', 'Cybersecurity', 'Cloud Computing', 'Infrastructure Security', 'Problem Solving', 'Compliance', 'Automation']"
        ],
        [
         "30",
         "['Cloud Computing', 'Infrastructure', 'Automation', 'Networking', 'System Administration', 'Problem Solving', 'Technology']"
        ],
        [
         "31",
         "['Cloud Architecture', 'Cloud Computing', 'System Design', 'Planning', 'Strategy', 'Technology', 'Problem Solving']"
        ],
        [
         "32",
         "['Site Reliability Engineering', 'DevOps', 'Cloud Computing', 'Automation', 'System Administration', 'Problem Solving', 'Monitoring']"
        ],
        [
         "33",
         "['IT Project Management', 'Project Planning', 'Leadership', 'Organization', 'Communication', 'Technology Projects', 'Team Coordination']"
        ],
        [
         "34",
         "['Scrum', 'Agile Methodology', 'Team Facilitation', 'Coaching', 'Problem Solving', 'Process Improvement', 'Communication']"
        ],
        [
         "35",
         "['Product Management', 'Agile Methodology', 'Requirements Gathering', 'Prioritization', 'Communication', 'Market Research', 'Strategy']"
        ],
        [
         "36",
         "['Medicine', 'Patient Care', 'Diagnosis', 'Treatment', 'Problem Solving', 'Community Health', 'Helping People']"
        ],
        [
         "37",
         "['Surgery', 'Medicine', 'Medical Procedures', 'Problem Solving', 'Anatomy', 'Precision', 'Critical Thinking']"
        ],
        [
         "38",
         "['Cardiology', 'Medicine', 'Heart Health', 'Diagnosis', 'Treatment', 'Medical Procedures', 'Analysis']"
        ],
        [
         "39",
         "['Pediatrics', 'Child Health', 'Medicine', 'Patient Care (Children)', 'Growth and Development', 'Diagnosis', 'Family Support']"
        ],
        [
         "40",
         "['Gynecology', \"Women's Health\", 'Obstetrics', 'Medicine', 'Patient Care', 'Reproductive Health', 'Surgery (related)']"
        ],
        [
         "41",
         "['Anesthesia', 'Pain Management', 'Medicine', 'Medical Procedures', 'Patient Monitoring', 'Pharmacology', 'Critical Thinking']"
        ],
        [
         "42",
         "['Radiology', 'Medical Imaging', 'Diagnosis', 'Analysis', 'Technology', 'Anatomy', 'Problem Solving']"
        ],
        [
         "43",
         "['Dermatology', 'Skin Health', 'Medicine', 'Diagnosis', 'Treatment', 'Cosmetic Procedures', 'Patient Care']"
        ],
        [
         "44",
         "['Ophthalmology', 'Eye Care', 'Vision', 'Medicine', 'Surgery (Eye)', 'Diagnosis', 'Patient Care']"
        ],
        [
         "45",
         "['Orthopedics', 'Surgery', 'Musculoskeletal System', 'Injury Treatment', 'Diagnosis', 'Medical Procedures', 'Anatomy']"
        ],
        [
         "46",
         "['Nursing', 'Patient Care', 'Healthcare', 'Helping People', 'Medical Procedures', 'Monitoring', 'Communication']"
        ],
        [
         "47",
         "['Nursing Management', 'Team Leadership', 'Healthcare Administration', 'Patient Care', 'Organization', 'Planning', 'Communication']"
        ],
        [
         "48",
         "['Nursing Education', 'Teaching', 'Healthcare', 'Mentoring', 'Curriculum Development', 'Communication', 'Knowledge Sharing']"
        ],
        [
         "49",
         "['Clinical Nursing', 'Specialized Care', 'Patient Care', 'Consultation', 'Research', 'Problem Solving', 'Healthcare']"
        ]
       ],
       "shape": {
        "columns": 1,
        "rows": 200
       }
      },
      "text/plain": [
       "0      [Machine Learning, Artificial Intelligence, Da...\n",
       "1      [Artificial Intelligence, Machine Learning, Ro...\n",
       "2      [Natural Language Processing, Linguistics, Art...\n",
       "3      [Computer Vision, Image Processing, Artificial...\n",
       "4      [Artificial Intelligence, Machine Learning, Re...\n",
       "                             ...                        \n",
       "195    [DevOps, Automation, Cloud Computing, Programm...\n",
       "196    [Filmmaking, Video Production, Storytelling, D...\n",
       "197    [Psychiatry, Medicine, Mental Health, Diagnosi...\n",
       "198    [AR/VR Development, Augmented Reality, Virtual...\n",
       "199    [Industrial Automation, Robotics, Manufacturin...\n",
       "Name: interest_tags1, Length: 200, dtype: object"
      ]
     },
     "execution_count": 58,
     "metadata": {},
     "output_type": "execute_result"
    }
   ],
   "source": [
    "df[\"interest_tags1\"] = df[\"interest_tags1\"].apply(lambda x: [t.strip() for t in str(x).split(\"|\") if t.strip()])\n",
    "df['interest_tags1']"
   ]
  },
  {
   "cell_type": "code",
   "execution_count": 59,
   "id": "a6d53811",
   "metadata": {},
   "outputs": [
    {
     "data": {
      "application/vnd.microsoft.datawrangler.viewer.v0+json": {
       "columns": [
        {
         "name": "index",
         "rawType": "int64",
         "type": "integer"
        },
        {
         "name": "field",
         "rawType": "object",
         "type": "unknown"
        }
       ],
       "ref": "71da8dfc-984b-4f12-a597-7e82e9c98835",
       "rows": [
        [
         "195",
         "['Tech']"
        ],
        [
         "196",
         "['Creative', 'Media']"
        ],
        [
         "197",
         "['HealthCare']"
        ],
        [
         "198",
         "['Tech', 'Design']"
        ],
        [
         "199",
         "['Engineering']"
        ]
       ],
       "shape": {
        "columns": 1,
        "rows": 5
       }
      },
      "text/plain": [
       "195               [Tech]\n",
       "196    [Creative, Media]\n",
       "197         [HealthCare]\n",
       "198       [Tech, Design]\n",
       "199        [Engineering]\n",
       "Name: field, dtype: object"
      ]
     },
     "execution_count": 59,
     "metadata": {},
     "output_type": "execute_result"
    }
   ],
   "source": [
    "df[\"field\"] = df[\"field\"].apply(lambda x: [f.strip() for f in str(x).split(\"|\")])\n",
    "df['field'].tail()"
   ]
  },
  {
   "cell_type": "code",
   "execution_count": 60,
   "id": "48fee710",
   "metadata": {},
   "outputs": [
    {
     "data": {
      "application/vnd.microsoft.datawrangler.viewer.v0+json": {
       "columns": [
        {
         "name": "index",
         "rawType": "int64",
         "type": "integer"
        },
        {
         "name": "skills",
         "rawType": "object",
         "type": "unknown"
        }
       ],
       "ref": "ac807e3f-de23-455c-ad02-5c788069ccc0",
       "rows": [
        [
         "0",
         "['Python', 'TensorFlow', 'PyTorch', 'Scikit-learn', 'Data Engineering', 'MLOps', 'Cloud Computing']"
        ],
        [
         "1",
         "['Python', 'Java', 'C++', 'Machine Learning', 'Deep Learning', 'Natural Language Processing (NLP)', 'Computer Vision', 'AI Frameworks']"
        ],
        [
         "2",
         "['Python', 'NLTK', 'spaCy', 'Transformers', 'Machine Learning', 'Text Mining', 'Computational Linguistics']"
        ],
        [
         "3",
         "['Python', 'OpenCV', 'TensorFlow', 'PyTorch', 'Deep Learning', 'Image Analysis', 'Signal Processing']"
        ],
        [
         "4",
         "['Deep Learning', 'Reinforcement Learning', 'Bayesian Methods', 'Statistical Modeling', 'Python', 'Research Methodologies']"
        ],
        [
         "5",
         "['Statistical Modeling', 'Experiment Design', 'Machine Learning', 'Cloud Platforms', 'Programming (Python/R)', 'Data Analysis']"
        ],
        [
         "6",
         "['C++', 'Python', 'ROS (Robot Operating System)', 'Control Systems', 'Computer Vision', 'Sensor Integration']"
        ],
        [
         "7",
         "['Python', 'R', 'SQL', 'Statistical Modeling', 'Machine Learning Algorithms', 'Data Visualization (Tableau', 'Power BI)', 'Big Data Technologies (Hadoop', 'Spark)']"
        ],
        [
         "8",
         "['SQL', 'Excel', 'Data Visualization Tools (Tableau', 'Power BI)', 'Python/R (basic)', 'Data Cleaning', 'Business Acumen']"
        ],
        [
         "9",
         "['SQL', 'NoSQL', 'ETL Tools', 'Big Data Technologies (Hadoop', 'Spark)', 'Cloud Data Services (AWS S3', 'Redshift', 'Azure Data Lake', 'BigQuery)', 'Programming (Python', 'Java)']"
        ],
        [
         "10",
         "['SQL', 'ETL Tools', 'BI Platforms (Tableau', 'Power BI', 'Qlik Sense)', 'Data Modeling', 'Dashboard Design', 'Data Reporting']"
        ],
        [
         "11",
         "['Hadoop Ecosystem', 'Spark', 'Kafka', 'NoSQL Databases', 'Cloud Big Data Services', 'Programming (Scala', 'Python', 'Java)']"
        ],
        [
         "12",
         "['Programming Languages (Java', 'C++', 'Python)', 'Data Structures and Algorithms', 'Software Architecture', 'Testing Frameworks', 'Agile Methodologies', 'Git', 'Design Patterns']"
        ],
        [
         "13",
         "['Specific Programming Languages', 'Data Structures', 'Debugging', 'Version Control (Git)', 'Software Development Life Cycle (SDLC)']"
        ],
        [
         "14",
         "['Java', 'Kotlin', 'Swift', 'Objective-C', 'Android SDK', 'iOS SDK', 'Android Studio', 'Xcode', 'UI/UX for Mobile', 'RESTful APIs', 'Mobile Performance Optimization', 'Cross-Platform Development (e.g.', 'Flutter', 'React Native)']"
        ],
        [
         "15",
         "['Design Patterns', 'Software Modeling', 'System Design', 'Technical Communication', 'Cloud Architecture', 'Scalability', 'Performance Optimization']"
        ],
        [
         "16",
         "['Leadership Skills', 'Strong Programming Skills', 'Software Architecture', 'Project Management (basic)', 'Communication']"
        ],
        [
         "17",
         "['Leadership', 'Project Management', 'Performance Management', 'Hiring', 'Budgeting', 'Technical Understanding']"
        ],
        [
         "18",
         "['Solidity', 'Smart Contracts', 'Blockchain Platforms (Ethereum', 'Hyperledger)', 'Cryptography', 'Distributed Systems']"
        ],
        [
         "19",
         "['RESTful APIs', 'GraphQL', 'HTTP Protocols', 'Data Formats (JSON', 'XML)', 'API Gateways', 'Security for APIs']"
        ],
        [
         "20",
         "['HTML', 'CSS', 'JavaScript', 'React/Angular/Vue', 'Node.js/Python/Java', 'SQL/NoSQL', 'Git', 'RESTful APIs']"
        ],
        [
         "21",
         "['HTML', 'CSS', 'JavaScript', 'React', 'Angular', 'Vue.js', 'UI/UX Principles', 'Responsive Design']"
        ],
        [
         "22",
         "['Node.js', 'Python (Django/Flask)', 'Java (Spring)', 'Ruby on Rails', 'SQL/NoSQL Databases', 'RESTful APIs', 'Cloud Platforms', 'Security Best Practices']"
        ],
        [
         "23",
         "['Platforms (Webflow', 'Framer)', 'UI/UX Principles', 'Responsive Design', 'Problem Solving', 'Creativity']"
        ],
        [
         "24",
         "['HTML', 'CSS', 'JavaScript', 'Front-end Frameworks', 'Responsive Design', 'UI/UX Principles']"
        ],
        [
         "25",
         "['User Research Methods', 'Wireframing', 'Prototyping Tools (Figma', 'Sketch', 'Adobe XD)', 'Information Architecture', 'Usability Testing']"
        ],
        [
         "26",
         "['Network Security', 'SIEM Tools', 'Vulnerability Assessment', 'Incident Response', 'Firewalls', 'Intrusion Detection Systems (IDS/IPS)', 'Cryptography']"
        ],
        [
         "27",
         "['Kali Linux', 'Metasploit', 'Burp Suite', 'Network Scanning Tools', 'Web Application Security', 'Social Engineering', 'Reporting']"
        ],
        [
         "28",
         "['Enterprise Security Architecture', 'Cloud Security', 'Network Security', 'Data Security', 'Compliance Frameworks (ISO 27001', 'NIST)', 'Threat Modeling']"
        ],
        [
         "29",
         "['AWS Security', 'Azure Security', 'GCP Security', 'Cloud Security Posture Management (CSPM)', 'Identity and Access Management (IAM)', 'Network Security in Cloud', 'Scripting']"
        ],
        [
         "30",
         "['AWS', 'Azure', 'GCP', 'Infrastructure as Code (Terraform', 'CloudFormation)', 'Configuration Management', 'Networking', 'Monitoring', 'Scripting']"
        ],
        [
         "31",
         "['Cloud Platforms (AWS', 'Azure', 'GCP)', 'Enterprise Architecture', 'Solution Design', 'Security Architecture', 'Cost Management', 'Technical Leadership']"
        ],
        [
         "32",
         "['Cloud Platforms', 'Monitoring Tools (Prometheus', 'Grafana)', 'CI/CD', 'Scripting', 'Automation', 'Incident Response', 'System Design']"
        ],
        [
         "33",
         "['Project Management Methodologies (Agile', 'Waterfall)', 'Project Management Tools (Jira', 'Asana)', 'Budgeting', 'Risk Management', 'Stakeholder Communication']"
        ],
        [
         "34",
         "['Scrum Framework', 'Agile Principles', 'Facilitation Skills', 'Conflict Resolution', 'Understanding of Software Development']"
        ],
        [
         "35",
         "['Product Backlog Management', 'User Story Writing', 'Market Understanding', 'Stakeholder Communication', 'Prioritization Techniques']"
        ],
        [
         "36",
         "['Clinical Examination', 'Diagnosis', 'Treatment Planning', 'Medical Knowledge', 'Communication', 'Empathy', 'Patient Management']"
        ],
        [
         "37",
         "['Surgical Techniques', 'Anatomy', 'Medical Knowledge', 'Sterile Techniques', 'Patient Care', 'Decision Making under Pressure']"
        ],
        [
         "38",
         "['ECG Interpretation', 'Angiography', 'Echocardiography', 'Cardiac Catheterization', 'Medical Knowledge (Cardiology)', 'Patient Management']"
        ],
        [
         "39",
         "['Child Care', 'Pediatric Diagnosis', 'Vaccination', 'Communication with Children and Parents', 'Medical Knowledge (Pediatrics)']"
        ],
        [
         "40",
         "['Pelvic Examination', 'Prenatal Care', 'Childbirth Assistance', 'Gynecological Surgery', 'Medical Knowledge (OB/GYN)']"
        ],
        [
         "41",
         "['Anesthesia Administration', 'Airway Management', 'Pain Assessment', 'Patient Monitoring', 'Pharmacology', 'Emergency Response']"
        ],
        [
         "42",
         "['Image Interpretation (X-ray', 'CT', 'MRI)', 'Radiation Safety', 'Medical Terminology', 'Collaboration with Physicians']"
        ],
        [
         "43",
         "['Skin Examination', 'Diagnosis of Skin Conditions', 'Biopsy Procedures', 'Medical Knowledge (Dermatology)', 'Patient Consultation']"
        ],
        [
         "44",
         "['Eye Examination', 'Refraction', 'Diagnosis of Eye Diseases', 'Eye Surgery', 'Medical Knowledge (Ophthalmology)']"
        ],
        [
         "45",
         "['Orthopedic Surgery', 'Fracture Management', 'Joint Replacement', 'Sports Medicine (related)', 'Anatomy', 'Rehabilitation (related)']"
        ],
        [
         "46",
         "['Patient Assessment', 'Medication Administration', 'Vital Signs Monitoring', 'Wound Care', 'Communication', 'Empathy', 'Medical Terminology']"
        ],
        [
         "47",
         "['Leadership', 'Staffing', 'Budget Management', 'Quality Improvement', 'Conflict Resolution', 'Communication', 'Clinical Knowledge']"
        ],
        [
         "48",
         "['Teaching Skills', 'Curriculum Design', 'Clinical Expertise', 'Presentation Skills', 'Assessment Methods', 'Communication']"
        ],
        [
         "49",
         "['Advanced Clinical Skills', 'Diagnosis and Treatment Planning (within scope)', 'Research Utilization', 'Consulting', 'Patient Education']"
        ]
       ],
       "shape": {
        "columns": 1,
        "rows": 200
       }
      },
      "text/plain": [
       "0      [Python, TensorFlow, PyTorch, Scikit-learn, Da...\n",
       "1      [Python, Java, C++, Machine Learning, Deep Lea...\n",
       "2      [Python, NLTK, spaCy, Transformers, Machine Le...\n",
       "3      [Python, OpenCV, TensorFlow, PyTorch, Deep Lea...\n",
       "4      [Deep Learning, Reinforcement Learning, Bayesi...\n",
       "                             ...                        \n",
       "195    [CI/CD Tools (Jenkins, GitLab CI), Cloud Platf...\n",
       "196    [Scriptwriting, Directing, Cinematography (bas...\n",
       "197    [Medical Knowledge (Psychiatry), Diagnosis (Me...\n",
       "198    [AR/VR Development Platforms (Unity, Unreal En...\n",
       "199    [PLC Programming, SCADA Systems, Robotics (Ind...\n",
       "Name: skills, Length: 200, dtype: object"
      ]
     },
     "execution_count": 60,
     "metadata": {},
     "output_type": "execute_result"
    }
   ],
   "source": [
    "df[\"skills\"] = df[\"skills\"].apply(lambda x: [s.strip() for s in str(x).split(\", \")])\n",
    "df['skills']"
   ]
  },
  {
   "cell_type": "code",
   "execution_count": 61,
   "id": "aeaf721f",
   "metadata": {},
   "outputs": [
    {
     "data": {
      "application/vnd.microsoft.datawrangler.viewer.v0+json": {
       "columns": [
        {
         "name": "index",
         "rawType": "int64",
         "type": "integer"
        },
        {
         "name": "interest_tags2",
         "rawType": "object",
         "type": "unknown"
        }
       ],
       "ref": "8c6409e0-4f0c-453b-9bec-b792dd6e5533",
       "rows": [
        [
         "0",
         "['Machine Learning', 'Algorithms', 'Python', 'Statistics', 'Model Training', 'Data Engineering']"
        ],
        [
         "1",
         "['Artificial Intelligence', 'Deep Learning', 'Neural Networks', 'Python', 'Automation', 'Cloud AI']"
        ],
        [
         "2",
         "['NLP', 'Linguistics', 'Text Mining', 'Transformers', 'Chatbots', 'BERT/GPT']"
        ],
        [
         "3",
         "['Computer Vision', 'Image Processing', 'OpenCV', 'Deep Learning', 'Cameras', 'AI']"
        ],
        [
         "4",
         "['Machine Learning', 'Research', 'Academic Papers', 'Algorithms', 'Data Science', 'Innovation']"
        ],
        [
         "5",
         "['Experiments', 'Data Analysis', 'AI Applications', 'Research', 'Product Prototyping']"
        ],
        [
         "6",
         "['Robotics', 'Motion Planning', 'Embedded Systems', 'ROS', 'Python/C++', 'Mechatronics']"
        ],
        [
         "7",
         "['Data Analysis', 'Statistics', 'Machine Learning', 'Business Insights', 'Python', 'SQL']"
        ],
        [
         "8",
         "['Excel', 'SQL', 'Dashboards', 'Business Intelligence', 'Data Cleaning', 'Storytelling']"
        ],
        [
         "9",
         "['Data Pipelines', 'ETL', 'Big Data', 'SQL', 'Cloud Platforms', 'Apache Spark']"
        ],
        [
         "10",
         "['BI Tools', 'Dashboards', 'Data Warehousing', 'SQL', 'Reporting', 'KPIs']"
        ],
        [
         "11",
         "['Hadoop', 'Spark', 'Data Lakes', 'Scala', 'ETL', 'Distributed Systems']"
        ],
        [
         "12",
         "['Coding', 'Problem Solving', 'System Design', 'Debugging', 'Backend/Frontend']"
        ],
        [
         "13",
         "['Programming', 'Application Development', 'Version Control', 'APIs', 'Agile']"
        ],
        [
         "14",
         "['Android/iOS', 'Flutter', 'React Native', 'UI/UX', 'App Stores', 'Java/Kotlin']"
        ],
        [
         "15",
         "['System Design', 'Scalable Systems', 'Microservices', 'Architecture Patterns', 'DevOps']"
        ],
        [
         "16",
         "['Project Planning', 'Code Reviews', 'Architecture', 'Mentorship', 'DevOps', 'Agile']"
        ],
        [
         "17",
         "['Leadership', 'Team Building', 'Roadmaps', 'Tech Strategy', 'Agile', 'Hiring']"
        ],
        [
         "18",
         "['Blockchain', 'Smart Contracts', 'Solidity', 'Ethereum', 'Cryptography', 'Web3']"
        ],
        [
         "19",
         "['REST APIs', 'Backend Development', 'JSON', 'Authentication', 'Microservices']"
        ],
        [
         "20",
         "['Frontend + Backend', 'JavaScript', 'React', 'Node.js', 'Databases', 'APIs']"
        ],
        [
         "21",
         "['HTML/CSS', 'JavaScript', 'React', 'UI/UX', 'Responsive Design']"
        ],
        [
         "22",
         "['Databases', 'APIs', 'Server-side Code', 'Node.js', 'Python', 'Authentication']"
        ],
        [
         "23",
         "['UI Design', 'HTML/CSS', 'Figma', 'Visual Aesthetics', 'Web Trends']"
        ],
        [
         "24",
         "['Frontend Development', 'UX Design', 'JavaScript', 'CSS Frameworks', 'Accessibility']"
        ],
        [
         "25",
         "['User Research', 'Wireframes', 'Prototyping', 'Interaction Design', 'Usability']"
        ],
        [
         "26",
         "['Cyber Threats', 'Risk Assessment', 'Firewalls', 'SIEM Tools', 'Incident Response']"
        ],
        [
         "27",
         "['Hacking', 'Vulnerability Testing', 'Kali Linux', 'Networks', 'Cybersecurity']"
        ],
        [
         "28",
         "['Network Security', 'Security Protocols', 'Enterprise Systems', 'Compliance']"
        ],
        [
         "29",
         "['Cloud Security', 'AWS/Azure/GCP', 'IAM', 'Encryption', 'Network Security']"
        ],
        [
         "30",
         "['Cloud Platforms', 'DevOps', 'CI/CD', 'Networking', 'Infrastructure as Code']"
        ],
        [
         "31",
         "['Cloud Design', 'AWS Solutions', 'Security', 'Scalability', 'Cloud Migration']"
        ],
        [
         "32",
         "['Monitoring', 'Reliability', 'DevOps', 'Automation', 'Incident Response']"
        ],
        [
         "33",
         "['Project Planning', 'Stakeholder Management', 'Jira', 'Budgets', 'Risk Management']"
        ],
        [
         "34",
         "['Agile', 'Scrum Framework', 'Team Facilitation', 'Sprint Planning', 'Jira']"
        ],
        [
         "35",
         "['Product Strategy', 'Agile', 'Roadmaps', 'Backlogs', 'Stakeholder Communication']"
        ],
        [
         "36",
         "['Diagnosis', 'General Medicine', 'Patient Care', 'Clinical Knowledge', 'Health Counseling']"
        ],
        [
         "37",
         "['Surgery', 'Anatomy', 'Clinical Practice', 'Precision', 'Emergency Procedures']"
        ],
        [
         "38",
         "['Cardiology', 'ECG/Echo', 'Critical Care', 'Heart Health', 'Medical Imaging']"
        ],
        [
         "39",
         "['Child Health', 'Immunization', 'Growth Tracking', 'Communication', 'Patience']"
        ],
        [
         "40",
         "[\"Women's Health\", 'Reproductive System', 'Pregnancy Care', 'Surgery', 'Ultrasound']"
        ],
        [
         "41",
         "['Anesthesia', 'Surgery Support', 'Pain Management', 'Emergency Response']"
        ],
        [
         "42",
         "['Imaging', 'X-Ray/MRI/CT', 'Diagnostics', 'Anatomy', 'Teleradiology']"
        ],
        [
         "43",
         "['Skin Care', 'Diagnosis', 'Aesthetic Procedures', 'Allergies', 'Clinical Practice']"
        ],
        [
         "44",
         "['Vision Care', 'Eye Surgery', 'Diagnosis', 'Optics', 'LASIK', 'Instruments']"
        ],
        [
         "45",
         "['Bone & Joint Care', 'Surgery', 'Sports Injuries', 'X-rays', 'Physical Therapy']"
        ],
        [
         "46",
         "['Patient Care', 'Medication', 'Vital Monitoring', 'Communication', 'Teamwork']"
        ],
        [
         "47",
         "['Leadership', 'Team Management', 'Scheduling', 'Patient Safety', 'Coordination']"
        ],
        [
         "48",
         "['Nursing', 'Teaching', 'Training', 'Curriculum Design', 'Patient Care', 'Health Education']"
        ],
        [
         "49",
         "['Nursing', 'Diagnosis', 'Treatment Planning', 'Patient Advocacy', 'Clinical Practice']"
        ]
       ],
       "shape": {
        "columns": 1,
        "rows": 200
       }
      },
      "text/plain": [
       "0      [Machine Learning, Algorithms, Python, Statist...\n",
       "1      [Artificial Intelligence, Deep Learning, Neura...\n",
       "2      [NLP, Linguistics, Text Mining, Transformers, ...\n",
       "3      [Computer Vision, Image Processing, OpenCV, De...\n",
       "4      [Machine Learning, Research, Academic Papers, ...\n",
       "                             ...                        \n",
       "195    [CI/CD, Cloud Platforms, Infrastructure Automa...\n",
       "196    [Direction, Screenwriting, Editing, Storytelling]\n",
       "197    [Mental Health, Clinical Diagnosis, Therapy, P...\n",
       "198    [Immersive Tech, Unity/Unreal, UX Design, XR I...\n",
       "199             [PLCs, Control Systems, Robotics, SCADA]\n",
       "Name: interest_tags2, Length: 200, dtype: object"
      ]
     },
     "execution_count": 61,
     "metadata": {},
     "output_type": "execute_result"
    }
   ],
   "source": [
    "df[\"interest_tags2\"] = df[\"interest_tags2\"].apply(lambda x: [s.strip() for s in str(x).split(\", \")])\n",
    "df['interest_tags2']"
   ]
  },
  {
   "cell_type": "code",
   "execution_count": 62,
   "id": "3ee511aa",
   "metadata": {},
   "outputs": [],
   "source": [
    "df[\"tech\"] = df['tech'].apply(lambda x: str(x).lower() == 'tech' or x is True)\n",
    "df['creativity'] = df['creativity'].apply(lambda x: str(x).lower() == 'yes' or x is True)"
   ]
  },
  {
   "cell_type": "code",
   "execution_count": 63,
   "id": "7490ed5b",
   "metadata": {},
   "outputs": [
    {
     "name": "stdout",
     "output_type": "stream",
     "text": [
      "<class 'pandas.core.frame.DataFrame'>\n",
      "RangeIndex: 200 entries, 0 to 199\n",
      "Data columns (total 11 columns):\n",
      " #   Column          Non-Null Count  Dtype \n",
      "---  ------          --------------  ----- \n",
      " 0   career          200 non-null    object\n",
      " 1   job_title       200 non-null    object\n",
      " 2   tagline         200 non-null    object\n",
      " 3   desc            200 non-null    object\n",
      " 4   personality     200 non-null    object\n",
      " 5   interest_tags1  200 non-null    object\n",
      " 6   skills          200 non-null    object\n",
      " 7   field           200 non-null    object\n",
      " 8   tech            200 non-null    bool  \n",
      " 9   creativity      200 non-null    bool  \n",
      " 10  interest_tags2  200 non-null    object\n",
      "dtypes: bool(2), object(9)\n",
      "memory usage: 14.6+ KB\n"
     ]
    }
   ],
   "source": [
    "df.info()"
   ]
  },
  {
   "cell_type": "code",
   "execution_count": 64,
   "id": "f8f98b3b",
   "metadata": {},
   "outputs": [
    {
     "data": {
      "application/vnd.microsoft.datawrangler.viewer.v0+json": {
       "columns": [
        {
         "name": "index",
         "rawType": "int64",
         "type": "integer"
        },
        {
         "name": "career",
         "rawType": "object",
         "type": "string"
        },
        {
         "name": "job_title",
         "rawType": "object",
         "type": "string"
        },
        {
         "name": "tagline",
         "rawType": "object",
         "type": "string"
        },
        {
         "name": "desc",
         "rawType": "object",
         "type": "string"
        },
        {
         "name": "personality",
         "rawType": "object",
         "type": "string"
        },
        {
         "name": "interest_tags1",
         "rawType": "object",
         "type": "unknown"
        },
        {
         "name": "skills",
         "rawType": "object",
         "type": "unknown"
        },
        {
         "name": "field",
         "rawType": "object",
         "type": "unknown"
        },
        {
         "name": "tech",
         "rawType": "bool",
         "type": "boolean"
        },
        {
         "name": "creativity",
         "rawType": "bool",
         "type": "boolean"
        },
        {
         "name": "interest_tags2",
         "rawType": "object",
         "type": "unknown"
        }
       ],
       "ref": "86ff70b9-0b87-4a24-97bb-900a8aed2922",
       "rows": [
        [
         "6",
         "AI/ML and Robotics",
         "Robotics Software Engineer",
         "Builds the brains behind smart machines that move and interact.",
         "Develops software for robots and robotic systems. Focuses on areas like motion planning, perception, control systems, and human-robot interaction, often incorporating AI techniques.",
         "IRC",
         "['Robotics', 'Programming', 'Engineering', 'Artificial Intelligence', 'Problem Solving', 'Automation', 'Systems Integration']",
         "['C++', 'Python', 'ROS (Robot Operating System)', 'Control Systems', 'Computer Vision', 'Sensor Integration']",
         "['Tech']",
         "True",
         "False",
         "['Robotics', 'Motion Planning', 'Embedded Systems', 'ROS', 'Python/C++', 'Mechatronics']"
        ],
        [
         "10",
         "Business and Analytics",
         "Business Intelligence Developer",
         "Crafts systems that transform data into strategic dashboards and reports.",
         "Develops and maintains BI tools and dashboards that allow users to access and analyze data for business insights. Focuses on data warehousing and reporting.",
         "CIS",
         "['Business Intelligence', 'Data Warehousing', 'Data Visualization', 'SQL', 'Reporting', 'Analysis', 'Business Acumen']",
         "['SQL', 'ETL Tools', 'BI Platforms (Tableau', 'Power BI', 'Qlik Sense)', 'Data Modeling', 'Dashboard Design', 'Data Reporting']",
         "['Tech', 'Business & Management']",
         "True",
         "False",
         "['BI Tools', 'Dashboards', 'Data Warehousing', 'SQL', 'Reporting', 'KPIs']"
        ],
        [
         "174",
         "Modeling & Fashion Media",
         "Fashion Model",
         "Brings life to fashion on ramps, runways, and shoots.",
         "Showcases clothing, accessories, or products by wearing them in photoshoots, runway shows, or commercials. Requires specific physical attributes and posing skills.",
         "ARE",
         "['Fashion Modeling', 'Photography', 'Runway', 'Visual Arts', 'Style', 'Performance', 'Collaboration']",
         "['Posing', 'Walking (Runway)', 'Expression', 'Physical Fitness', 'Professionalism', 'Communication']",
         "['Fashion', 'Creative']",
         "False",
         "False",
         "['Runways', 'Shoots', 'Endorsements', 'Personal Branding']"
        ],
        [
         "67",
         "Investment & Wealth Management",
         "Wealth Manager",
         "Offers holistic financial planning for high-net-worth clients.",
         "Provides comprehensive financial planning and investment advisory services to high-net-worth individuals and families. Covers investments, retirement, estate planning, and tax strategies.",
         "EIS",
         "['Wealth Management', 'Financial Planning', 'Investments', 'Client Relationship', 'Advisory', 'Financial Goals', 'High-Net-Worth Clients']",
         "['Financial Planning', 'Investment Products', 'Estate Planning (basic)', 'Tax Planning (basic)', 'Communication', 'Relationship Building', 'Client Needs Analysis']",
         "['Finance']",
         "False",
         "False",
         "['Financial Planning', 'Investments', 'HNIs', 'Tax Planning', 'Relationship Building']"
        ],
        [
         "61",
         "Mental Health & Counseling",
         "Psychologist",
         "Diagnoses and treats mental health conditions through therapy.",
         "Diagnoses and treats mental, emotional, and behavioral disorders through therapy and counseling. Conducts psychological assessments and provides therapeutic interventions.",
         "SIA",
         "['Psychology', 'Mental Health', 'Therapy', 'Counseling', 'Human Behavior', 'Assessment', 'Helping People']",
         "['Psychological Assessment', 'Therapy Techniques (CBT', 'DBT', 'etc.)', 'Counseling Skills', 'Diagnosis (Psychological)', 'Communication', 'Empathy']",
         "['HealthCare']",
         "False",
         "False",
         "['Mental Health', 'Behavioral Therapy', 'Diagnosis', 'Counseling', 'Research']"
        ]
       ],
       "shape": {
        "columns": 11,
        "rows": 5
       }
      },
      "text/html": [
       "<div>\n",
       "<style scoped>\n",
       "    .dataframe tbody tr th:only-of-type {\n",
       "        vertical-align: middle;\n",
       "    }\n",
       "\n",
       "    .dataframe tbody tr th {\n",
       "        vertical-align: top;\n",
       "    }\n",
       "\n",
       "    .dataframe thead th {\n",
       "        text-align: right;\n",
       "    }\n",
       "</style>\n",
       "<table border=\"1\" class=\"dataframe\">\n",
       "  <thead>\n",
       "    <tr style=\"text-align: right;\">\n",
       "      <th></th>\n",
       "      <th>career</th>\n",
       "      <th>job_title</th>\n",
       "      <th>tagline</th>\n",
       "      <th>desc</th>\n",
       "      <th>personality</th>\n",
       "      <th>interest_tags1</th>\n",
       "      <th>skills</th>\n",
       "      <th>field</th>\n",
       "      <th>tech</th>\n",
       "      <th>creativity</th>\n",
       "      <th>interest_tags2</th>\n",
       "    </tr>\n",
       "  </thead>\n",
       "  <tbody>\n",
       "    <tr>\n",
       "      <th>6</th>\n",
       "      <td>AI/ML and Robotics</td>\n",
       "      <td>Robotics Software Engineer</td>\n",
       "      <td>Builds the brains behind smart machines that m...</td>\n",
       "      <td>Develops software for robots and robotic syste...</td>\n",
       "      <td>IRC</td>\n",
       "      <td>[Robotics, Programming, Engineering, Artificia...</td>\n",
       "      <td>[C++, Python, ROS (Robot Operating System), Co...</td>\n",
       "      <td>[Tech]</td>\n",
       "      <td>True</td>\n",
       "      <td>False</td>\n",
       "      <td>[Robotics, Motion Planning, Embedded Systems, ...</td>\n",
       "    </tr>\n",
       "    <tr>\n",
       "      <th>10</th>\n",
       "      <td>Business and Analytics</td>\n",
       "      <td>Business Intelligence Developer</td>\n",
       "      <td>Crafts systems that transform data into strate...</td>\n",
       "      <td>Develops and maintains BI tools and dashboards...</td>\n",
       "      <td>CIS</td>\n",
       "      <td>[Business Intelligence, Data Warehousing, Data...</td>\n",
       "      <td>[SQL, ETL Tools, BI Platforms (Tableau, Power ...</td>\n",
       "      <td>[Tech, Business &amp; Management]</td>\n",
       "      <td>True</td>\n",
       "      <td>False</td>\n",
       "      <td>[BI Tools, Dashboards, Data Warehousing, SQL, ...</td>\n",
       "    </tr>\n",
       "    <tr>\n",
       "      <th>174</th>\n",
       "      <td>Modeling &amp; Fashion Media</td>\n",
       "      <td>Fashion Model</td>\n",
       "      <td>Brings life to fashion on ramps, runways, and ...</td>\n",
       "      <td>Showcases clothing, accessories, or products b...</td>\n",
       "      <td>ARE</td>\n",
       "      <td>[Fashion Modeling, Photography, Runway, Visual...</td>\n",
       "      <td>[Posing, Walking (Runway), Expression, Physica...</td>\n",
       "      <td>[Fashion, Creative]</td>\n",
       "      <td>False</td>\n",
       "      <td>False</td>\n",
       "      <td>[Runways, Shoots, Endorsements, Personal Brand...</td>\n",
       "    </tr>\n",
       "    <tr>\n",
       "      <th>67</th>\n",
       "      <td>Investment &amp; Wealth Management</td>\n",
       "      <td>Wealth Manager</td>\n",
       "      <td>Offers holistic financial planning for high-ne...</td>\n",
       "      <td>Provides comprehensive financial planning and ...</td>\n",
       "      <td>EIS</td>\n",
       "      <td>[Wealth Management, Financial Planning, Invest...</td>\n",
       "      <td>[Financial Planning, Investment Products, Esta...</td>\n",
       "      <td>[Finance]</td>\n",
       "      <td>False</td>\n",
       "      <td>False</td>\n",
       "      <td>[Financial Planning, Investments, HNIs, Tax Pl...</td>\n",
       "    </tr>\n",
       "    <tr>\n",
       "      <th>61</th>\n",
       "      <td>Mental Health &amp; Counseling</td>\n",
       "      <td>Psychologist</td>\n",
       "      <td>Diagnoses and treats mental health conditions ...</td>\n",
       "      <td>Diagnoses and treats mental, emotional, and be...</td>\n",
       "      <td>SIA</td>\n",
       "      <td>[Psychology, Mental Health, Therapy, Counselin...</td>\n",
       "      <td>[Psychological Assessment, Therapy Techniques ...</td>\n",
       "      <td>[HealthCare]</td>\n",
       "      <td>False</td>\n",
       "      <td>False</td>\n",
       "      <td>[Mental Health, Behavioral Therapy, Diagnosis,...</td>\n",
       "    </tr>\n",
       "  </tbody>\n",
       "</table>\n",
       "</div>"
      ],
      "text/plain": [
       "                             career                        job_title  \\\n",
       "6                AI/ML and Robotics       Robotics Software Engineer   \n",
       "10           Business and Analytics  Business Intelligence Developer   \n",
       "174        Modeling & Fashion Media                    Fashion Model   \n",
       "67   Investment & Wealth Management                   Wealth Manager   \n",
       "61       Mental Health & Counseling                     Psychologist   \n",
       "\n",
       "                                               tagline  \\\n",
       "6    Builds the brains behind smart machines that m...   \n",
       "10   Crafts systems that transform data into strate...   \n",
       "174  Brings life to fashion on ramps, runways, and ...   \n",
       "67   Offers holistic financial planning for high-ne...   \n",
       "61   Diagnoses and treats mental health conditions ...   \n",
       "\n",
       "                                                  desc personality  \\\n",
       "6    Develops software for robots and robotic syste...         IRC   \n",
       "10   Develops and maintains BI tools and dashboards...         CIS   \n",
       "174  Showcases clothing, accessories, or products b...         ARE   \n",
       "67   Provides comprehensive financial planning and ...         EIS   \n",
       "61   Diagnoses and treats mental, emotional, and be...         SIA   \n",
       "\n",
       "                                        interest_tags1  \\\n",
       "6    [Robotics, Programming, Engineering, Artificia...   \n",
       "10   [Business Intelligence, Data Warehousing, Data...   \n",
       "174  [Fashion Modeling, Photography, Runway, Visual...   \n",
       "67   [Wealth Management, Financial Planning, Invest...   \n",
       "61   [Psychology, Mental Health, Therapy, Counselin...   \n",
       "\n",
       "                                                skills  \\\n",
       "6    [C++, Python, ROS (Robot Operating System), Co...   \n",
       "10   [SQL, ETL Tools, BI Platforms (Tableau, Power ...   \n",
       "174  [Posing, Walking (Runway), Expression, Physica...   \n",
       "67   [Financial Planning, Investment Products, Esta...   \n",
       "61   [Psychological Assessment, Therapy Techniques ...   \n",
       "\n",
       "                             field   tech  creativity  \\\n",
       "6                           [Tech]   True       False   \n",
       "10   [Tech, Business & Management]   True       False   \n",
       "174            [Fashion, Creative]  False       False   \n",
       "67                       [Finance]  False       False   \n",
       "61                    [HealthCare]  False       False   \n",
       "\n",
       "                                        interest_tags2  \n",
       "6    [Robotics, Motion Planning, Embedded Systems, ...  \n",
       "10   [BI Tools, Dashboards, Data Warehousing, SQL, ...  \n",
       "174  [Runways, Shoots, Endorsements, Personal Brand...  \n",
       "67   [Financial Planning, Investments, HNIs, Tax Pl...  \n",
       "61   [Mental Health, Behavioral Therapy, Diagnosis,...  "
      ]
     },
     "execution_count": 64,
     "metadata": {},
     "output_type": "execute_result"
    }
   ],
   "source": [
    "df.sample(5)"
   ]
  },
  {
   "cell_type": "code",
   "execution_count": 65,
   "id": "88220508",
   "metadata": {},
   "outputs": [],
   "source": [
    "def merge_tags(tags1, tags2):\n",
    "    combined = tags1 + tags2 \n",
    "    seen = {}\n",
    "    for tag in combined:\n",
    "        tag_lower = tag.lower()\n",
    "        if tag_lower not in seen:\n",
    "            seen[tag_lower] = tag\n",
    "    return list(seen.values())"
   ]
  },
  {
   "cell_type": "code",
   "execution_count": 66,
   "id": "f5af62ad",
   "metadata": {},
   "outputs": [
    {
     "data": {
      "application/vnd.microsoft.datawrangler.viewer.v0+json": {
       "columns": [
        {
         "name": "index",
         "rawType": "int64",
         "type": "integer"
        },
        {
         "name": "interest_tags",
         "rawType": "object",
         "type": "unknown"
        }
       ],
       "ref": "f150c92f-4b13-4f59-9c0c-fc83f2afb72b",
       "rows": [
        [
         "0",
         "['Machine Learning', 'Artificial Intelligence', 'Data Science', 'Programming', 'Algorithms', 'Problem Solving', 'Predictive Modeling', 'Python', 'Statistics', 'Model Training', 'Data Engineering']"
        ],
        [
         "1",
         "['Artificial Intelligence', 'Machine Learning', 'Robotics', 'Problem Solving', 'Programming', 'Innovation', 'Research', 'Deep Learning', 'Neural Networks', 'Python', 'Automation', 'Cloud AI']"
        ],
        [
         "2",
         "['Natural Language Processing', 'Linguistics', 'Artificial Intelligence', 'Text Analysis', 'Programming', 'Communication', 'Data Science', 'NLP', 'Text Mining', 'Transformers', 'Chatbots', 'BERT/GPT']"
        ],
        [
         "3",
         "['Computer Vision', 'Image Processing', 'Artificial Intelligence', 'Machine Learning', 'Pattern Recognition', 'Programming', 'Robotics', 'OpenCV', 'Deep Learning', 'Cameras', 'AI']"
        ],
        [
         "4",
         "['Artificial Intelligence', 'Machine Learning', 'Research', 'Algorithms', 'Mathematics', 'Problem Solving', 'Innovation', 'Academic Papers', 'Data Science']"
        ],
        [
         "5",
         "['Applied Research', 'Machine Learning', 'Data Science', 'Experimentation', 'Problem Solving', 'Innovation', 'Programming', 'Experiments', 'Data Analysis', 'AI Applications', 'Research', 'Product Prototyping']"
        ],
        [
         "6",
         "['Robotics', 'Programming', 'Engineering', 'Artificial Intelligence', 'Problem Solving', 'Automation', 'Systems Integration', 'Motion Planning', 'Embedded Systems', 'ROS', 'Python/C++', 'Mechatronics']"
        ],
        [
         "7",
         "['Data Science', 'Data Analysis', 'Machine Learning', 'Statistics', 'Programming', 'Problem Solving', 'Communication', 'Business Insights', 'Python', 'SQL']"
        ],
        [
         "8",
         "['Data Analysis', 'Data Visualization', 'Statistics', 'Problem Solving', 'Reporting', 'Business Intelligence', 'Attention to Detail', 'Excel', 'SQL', 'Dashboards', 'Data Cleaning', 'Storytelling']"
        ],
        [
         "9",
         "['Data Engineering', 'Databases', 'Big Data', 'ETL', 'Cloud Computing', 'Programming', 'System Design', 'Data Pipelines', 'SQL', 'Cloud Platforms', 'Apache Spark']"
        ],
        [
         "10",
         "['Business Intelligence', 'Data Warehousing', 'Data Visualization', 'SQL', 'Reporting', 'Analysis', 'Business Acumen', 'BI Tools', 'Dashboards', 'KPIs']"
        ],
        [
         "11",
         "['Big Data', 'Data Engineering', 'Distributed Systems', 'Cloud Computing', 'Programming', 'Problem Solving', 'Scalability', 'Hadoop', 'Spark', 'Data Lakes', 'Scala', 'ETL']"
        ],
        [
         "12",
         "['Software Development', 'Programming', 'Problem Solving', 'System Design', 'Algorithms', 'Testing', 'Building Applications', 'Coding', 'Debugging', 'Backend/Frontend']"
        ],
        [
         "13",
         "['Programming', 'Coding', 'Problem Solving', 'Software Development', 'Logic', 'Testing', 'Building Applications', 'Application Development', 'Version Control', 'APIs', 'Agile']"
        ],
        [
         "14",
         "['Mobile Development', 'Android Development', 'iOS Development', 'Programming', 'App Design', 'Problem Solving', 'User Interface (UI)', 'Technology', 'Android/iOS', 'Flutter', 'React Native', 'UI/UX', 'App Stores', 'Java/Kotlin']"
        ],
        [
         "15",
         "['Software Architecture', 'System Design', 'Technical Leadership', 'Problem Solving', 'Planning', 'Technology', 'Innovation', 'Scalable Systems', 'Microservices', 'Architecture Patterns', 'DevOps']"
        ],
        [
         "16",
         "['Technical Leadership', 'Team Management', 'Programming', 'Mentoring', 'Problem Solving', 'Code Review', 'Architecture', 'Project Planning', 'Code Reviews', 'Mentorship', 'DevOps', 'Agile']"
        ],
        [
         "17",
         "['Engineering Management', 'Team Leadership', 'Project Management', 'People Management', 'Software Development Life Cycle (SDLC)', 'Strategy', 'Communication', 'Leadership', 'Team Building', 'Roadmaps', 'Tech Strategy', 'Agile', 'Hiring']"
        ],
        [
         "18",
         "['Blockchain', 'Cryptocurrency', 'Decentralization', 'Programming', 'Security', 'Innovation', 'Finance (related)', 'Smart Contracts', 'Solidity', 'Ethereum', 'Cryptography', 'Web3']"
        ],
        [
         "19",
         "['API Development', 'Programming', 'System Integration', 'Problem Solving', 'Web Services', 'Communication', 'Data Exchange', 'REST APIs', 'Backend Development', 'JSON', 'Authentication', 'Microservices']"
        ],
        [
         "20",
         "['Web Development', 'Programming', 'Problem Solving', 'Design', 'Databases', 'APIs', 'Building Applications', 'Frontend + Backend', 'JavaScript', 'React', 'Node.js']"
        ],
        [
         "21",
         "['Web Design', 'User Interface (UI)', 'User Experience (UX)', 'Programming', 'Visual Arts', 'Creativity', 'Interaction Design', 'HTML/CSS', 'JavaScript', 'React', 'UI/UX', 'Responsive Design']"
        ],
        [
         "22",
         "['Programming', 'Databases', 'Server Management', 'APIs', 'Problem Solving', 'System Design', 'Security', 'Server-side Code', 'Node.js', 'Python', 'Authentication']"
        ],
        [
         "23",
         "['web Development', 'Web Design', 'Visual Design', 'Technology', 'Creativity', 'Problem Solving', 'Digital Tools', 'UI Design', 'HTML/CSS', 'Figma', 'Visual Aesthetics', 'Web Trends']"
        ],
        [
         "24",
         "['User Interface (UI)', 'Web Development', 'Design Implementation', 'Attention to Detail', 'Front End', 'Design', 'Frontend Development', 'UX Design', 'JavaScript', 'CSS Frameworks', 'Accessibility']"
        ],
        [
         "25",
         "['User Experience (UX)', 'User Research', 'Design Thinking', 'Problem Solving', 'Information Architecture', 'Prototyping', 'Empathy', 'Wireframes', 'Interaction Design', 'Usability']"
        ],
        [
         "26",
         "['Cybersecurity', 'Network Security', 'Threat Detection', 'Analysis', 'Problem Solving', 'Risk Management', 'Incident Response', 'Cyber Threats', 'Risk Assessment', 'Firewalls', 'SIEM Tools']"
        ],
        [
         "27",
         "['Ethical Hacking', 'Penetration Testing', 'Security Assessment', 'Problem Solving', 'Networks', 'Exploits', 'Investigation', 'Hacking', 'Vulnerability Testing', 'Kali Linux', 'Cybersecurity']"
        ],
        [
         "28",
         "['Security Architecture', 'System Design', 'Cybersecurity', 'Risk Management', 'Compliance', 'Planning', 'Networks', 'Network Security', 'Security Protocols', 'Enterprise Systems']"
        ],
        [
         "29",
         "['Cloud Security', 'Cybersecurity', 'Cloud Computing', 'Infrastructure Security', 'Problem Solving', 'Compliance', 'Automation', 'AWS/Azure/GCP', 'IAM', 'Encryption', 'Network Security']"
        ],
        [
         "30",
         "['Cloud Computing', 'Infrastructure', 'Automation', 'Networking', 'System Administration', 'Problem Solving', 'Technology', 'Cloud Platforms', 'DevOps', 'CI/CD', 'Infrastructure as Code']"
        ],
        [
         "31",
         "['Cloud Architecture', 'Cloud Computing', 'System Design', 'Planning', 'Strategy', 'Technology', 'Problem Solving', 'Cloud Design', 'AWS Solutions', 'Security', 'Scalability', 'Cloud Migration']"
        ],
        [
         "32",
         "['Site Reliability Engineering', 'DevOps', 'Cloud Computing', 'Automation', 'System Administration', 'Problem Solving', 'Monitoring', 'Reliability', 'Incident Response']"
        ],
        [
         "33",
         "['IT Project Management', 'Project Planning', 'Leadership', 'Organization', 'Communication', 'Technology Projects', 'Team Coordination', 'Stakeholder Management', 'Jira', 'Budgets', 'Risk Management']"
        ],
        [
         "34",
         "['Scrum', 'Agile Methodology', 'Team Facilitation', 'Coaching', 'Problem Solving', 'Process Improvement', 'Communication', 'Agile', 'Scrum Framework', 'Sprint Planning', 'Jira']"
        ],
        [
         "35",
         "['Product Management', 'Agile Methodology', 'Requirements Gathering', 'Prioritization', 'Communication', 'Market Research', 'Strategy', 'Product Strategy', 'Agile', 'Roadmaps', 'Backlogs', 'Stakeholder Communication']"
        ],
        [
         "36",
         "['Medicine', 'Patient Care', 'Diagnosis', 'Treatment', 'Problem Solving', 'Community Health', 'Helping People', 'General Medicine', 'Clinical Knowledge', 'Health Counseling']"
        ],
        [
         "37",
         "['Surgery', 'Medicine', 'Medical Procedures', 'Problem Solving', 'Anatomy', 'Precision', 'Critical Thinking', 'Clinical Practice', 'Emergency Procedures']"
        ],
        [
         "38",
         "['Cardiology', 'Medicine', 'Heart Health', 'Diagnosis', 'Treatment', 'Medical Procedures', 'Analysis', 'ECG/Echo', 'Critical Care', 'Medical Imaging']"
        ],
        [
         "39",
         "['Pediatrics', 'Child Health', 'Medicine', 'Patient Care (Children)', 'Growth and Development', 'Diagnosis', 'Family Support', 'Immunization', 'Growth Tracking', 'Communication', 'Patience']"
        ],
        [
         "40",
         "['Gynecology', \"Women's Health\", 'Obstetrics', 'Medicine', 'Patient Care', 'Reproductive Health', 'Surgery (related)', 'Reproductive System', 'Pregnancy Care', 'Surgery', 'Ultrasound']"
        ],
        [
         "41",
         "['Anesthesia', 'Pain Management', 'Medicine', 'Medical Procedures', 'Patient Monitoring', 'Pharmacology', 'Critical Thinking', 'Surgery Support', 'Emergency Response']"
        ],
        [
         "42",
         "['Radiology', 'Medical Imaging', 'Diagnosis', 'Analysis', 'Technology', 'Anatomy', 'Problem Solving', 'Imaging', 'X-Ray/MRI/CT', 'Diagnostics', 'Teleradiology']"
        ],
        [
         "43",
         "['Dermatology', 'Skin Health', 'Medicine', 'Diagnosis', 'Treatment', 'Cosmetic Procedures', 'Patient Care', 'Skin Care', 'Aesthetic Procedures', 'Allergies', 'Clinical Practice']"
        ],
        [
         "44",
         "['Ophthalmology', 'Eye Care', 'Vision', 'Medicine', 'Surgery (Eye)', 'Diagnosis', 'Patient Care', 'Vision Care', 'Eye Surgery', 'Optics', 'LASIK', 'Instruments']"
        ],
        [
         "45",
         "['Orthopedics', 'Surgery', 'Musculoskeletal System', 'Injury Treatment', 'Diagnosis', 'Medical Procedures', 'Anatomy', 'Bone & Joint Care', 'Sports Injuries', 'X-rays', 'Physical Therapy']"
        ],
        [
         "46",
         "['Nursing', 'Patient Care', 'Healthcare', 'Helping People', 'Medical Procedures', 'Monitoring', 'Communication', 'Medication', 'Vital Monitoring', 'Teamwork']"
        ],
        [
         "47",
         "['Nursing Management', 'Team Leadership', 'Healthcare Administration', 'Patient Care', 'Organization', 'Planning', 'Communication', 'Leadership', 'Team Management', 'Scheduling', 'Patient Safety', 'Coordination']"
        ],
        [
         "48",
         "['Nursing Education', 'Teaching', 'Healthcare', 'Mentoring', 'Curriculum Development', 'Communication', 'Knowledge Sharing', 'Nursing', 'Training', 'Curriculum Design', 'Patient Care', 'Health Education']"
        ],
        [
         "49",
         "['Clinical Nursing', 'Specialized Care', 'Patient Care', 'Consultation', 'Research', 'Problem Solving', 'Healthcare', 'Nursing', 'Diagnosis', 'Treatment Planning', 'Patient Advocacy', 'Clinical Practice']"
        ]
       ],
       "shape": {
        "columns": 1,
        "rows": 200
       }
      },
      "text/html": [
       "<div>\n",
       "<style scoped>\n",
       "    .dataframe tbody tr th:only-of-type {\n",
       "        vertical-align: middle;\n",
       "    }\n",
       "\n",
       "    .dataframe tbody tr th {\n",
       "        vertical-align: top;\n",
       "    }\n",
       "\n",
       "    .dataframe thead th {\n",
       "        text-align: right;\n",
       "    }\n",
       "</style>\n",
       "<table border=\"1\" class=\"dataframe\">\n",
       "  <thead>\n",
       "    <tr style=\"text-align: right;\">\n",
       "      <th></th>\n",
       "      <th>interest_tags</th>\n",
       "    </tr>\n",
       "  </thead>\n",
       "  <tbody>\n",
       "    <tr>\n",
       "      <th>0</th>\n",
       "      <td>[Machine Learning, Artificial Intelligence, Da...</td>\n",
       "    </tr>\n",
       "    <tr>\n",
       "      <th>1</th>\n",
       "      <td>[Artificial Intelligence, Machine Learning, Ro...</td>\n",
       "    </tr>\n",
       "    <tr>\n",
       "      <th>2</th>\n",
       "      <td>[Natural Language Processing, Linguistics, Art...</td>\n",
       "    </tr>\n",
       "    <tr>\n",
       "      <th>3</th>\n",
       "      <td>[Computer Vision, Image Processing, Artificial...</td>\n",
       "    </tr>\n",
       "    <tr>\n",
       "      <th>4</th>\n",
       "      <td>[Artificial Intelligence, Machine Learning, Re...</td>\n",
       "    </tr>\n",
       "    <tr>\n",
       "      <th>...</th>\n",
       "      <td>...</td>\n",
       "    </tr>\n",
       "    <tr>\n",
       "      <th>195</th>\n",
       "      <td>[DevOps, Automation, Cloud Computing, Programm...</td>\n",
       "    </tr>\n",
       "    <tr>\n",
       "      <th>196</th>\n",
       "      <td>[Filmmaking, Video Production, Storytelling, D...</td>\n",
       "    </tr>\n",
       "    <tr>\n",
       "      <th>197</th>\n",
       "      <td>[Psychiatry, Medicine, Mental Health, Diagnosi...</td>\n",
       "    </tr>\n",
       "    <tr>\n",
       "      <th>198</th>\n",
       "      <td>[AR/VR Development, Augmented Reality, Virtual...</td>\n",
       "    </tr>\n",
       "    <tr>\n",
       "      <th>199</th>\n",
       "      <td>[Industrial Automation, Robotics, Manufacturin...</td>\n",
       "    </tr>\n",
       "  </tbody>\n",
       "</table>\n",
       "<p>200 rows × 1 columns</p>\n",
       "</div>"
      ],
      "text/plain": [
       "                                         interest_tags\n",
       "0    [Machine Learning, Artificial Intelligence, Da...\n",
       "1    [Artificial Intelligence, Machine Learning, Ro...\n",
       "2    [Natural Language Processing, Linguistics, Art...\n",
       "3    [Computer Vision, Image Processing, Artificial...\n",
       "4    [Artificial Intelligence, Machine Learning, Re...\n",
       "..                                                 ...\n",
       "195  [DevOps, Automation, Cloud Computing, Programm...\n",
       "196  [Filmmaking, Video Production, Storytelling, D...\n",
       "197  [Psychiatry, Medicine, Mental Health, Diagnosi...\n",
       "198  [AR/VR Development, Augmented Reality, Virtual...\n",
       "199  [Industrial Automation, Robotics, Manufacturin...\n",
       "\n",
       "[200 rows x 1 columns]"
      ]
     },
     "execution_count": 66,
     "metadata": {},
     "output_type": "execute_result"
    }
   ],
   "source": [
    "df['interest_tags'] = df.apply(lambda row: merge_tags(row['interest_tags1'], row['interest_tags2']), axis=1)\n",
    "df[['interest_tags']]"
   ]
  },
  {
   "cell_type": "code",
   "execution_count": 67,
   "id": "f881d12e",
   "metadata": {},
   "outputs": [],
   "source": [
    "# Convert to list of dictionaries\n",
    "careers_list = df.to_dict(orient=\"records\")\n",
    "\n",
    "# Save \n",
    "with open('../data/career_data.json','w', encoding='utf-8') as f:\n",
    "    json.dump(careers_list, f, ensure_ascii=False, indent=2)"
   ]
  },
  {
   "cell_type": "code",
   "execution_count": null,
   "id": "8a623c4d",
   "metadata": {},
   "outputs": [],
   "source": []
  }
 ],
 "metadata": {
  "kernelspec": {
   "display_name": "Python 3",
   "language": "python",
   "name": "python3"
  },
  "language_info": {
   "codemirror_mode": {
    "name": "ipython",
    "version": 3
   },
   "file_extension": ".py",
   "mimetype": "text/x-python",
   "name": "python",
   "nbconvert_exporter": "python",
   "pygments_lexer": "ipython3",
   "version": "3.11.9"
  }
 },
 "nbformat": 4,
 "nbformat_minor": 5
}
