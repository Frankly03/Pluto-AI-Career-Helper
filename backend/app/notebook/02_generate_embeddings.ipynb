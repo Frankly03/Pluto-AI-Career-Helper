{
 "cells": [
  {
   "cell_type": "code",
   "execution_count": 13,
   "id": "2e9d550d",
   "metadata": {},
   "outputs": [],
   "source": [
    "import json, pickle\n",
    "from sentence_transformers import SentenceTransformer\n",
    "from tqdm import tqdm\n",
    "import pickle\n",
    "import numpy as np\n",
    "from sklearn.metrics.pairwise import cosine_similarity"
   ]
  },
  {
   "cell_type": "code",
   "execution_count": 14,
   "id": "59426449",
   "metadata": {},
   "outputs": [],
   "source": [
    "MODEL_NAME = \"all-mpnet-base-v2\"\n",
    "model = SentenceTransformer(MODEL_NAME)"
   ]
  },
  {
   "cell_type": "code",
   "execution_count": 15,
   "id": "376669b8",
   "metadata": {},
   "outputs": [],
   "source": [
    "\n",
    "with open('../data/career_data.json', 'r', encoding='utf-8') as f:\n",
    "    careers = json.load(f)\n"
   ]
  },
  {
   "cell_type": "code",
   "execution_count": 16,
   "id": "f2c18b53",
   "metadata": {},
   "outputs": [
    {
     "name": "stderr",
     "output_type": "stream",
     "text": [
      "100%|██████████| 200/200 [00:00<00:00, 198593.94it/s]\n"
     ]
    }
   ],
   "source": [
    "job_titles = []\n",
    "texts_to_embed = []\n",
    "\n",
    "for career in tqdm(careers):\n",
    "    job_title = career.get(\"job_title\", \"Unknown Job\")\n",
    "    description = career.get(\"desc\", \"\")\n",
    "    tagline = career.get(\"Tagline\", \"\")\n",
    "    interest_tags = \" \".join(career.get(\"interest_tags\", []))\n",
    "    combined_text = f'{job_title}. {tagline}. {description}. {interest_tags}'\n",
    "    job_titles.append(job_title)\n",
    "    texts_to_embed.append(combined_text)\n"
   ]
  },
  {
   "cell_type": "code",
   "execution_count": 17,
   "id": "a0f1c473",
   "metadata": {},
   "outputs": [
    {
     "data": {
      "application/vnd.jupyter.widget-view+json": {
       "model_id": "028d936ef2204254b1e46f72e27fdd3b",
       "version_major": 2,
       "version_minor": 0
      },
      "text/plain": [
       "Batches:   0%|          | 0/7 [00:00<?, ?it/s]"
      ]
     },
     "metadata": {},
     "output_type": "display_data"
    }
   ],
   "source": [
    "embeddings = model.encode(texts_to_embed, show_progress_bar=True, convert_to_tensor=False)"
   ]
  },
  {
   "cell_type": "code",
   "execution_count": 18,
   "id": "faa2da47",
   "metadata": {},
   "outputs": [],
   "source": [
    "with open('../data/embeddings.pkl','wb') as f_out:\n",
    "    pickle.dump({\n",
    "        \"job_titles\": job_titles,\n",
    "        \"embeddings\": embeddings\n",
    "    }, f_out)"
   ]
  },
  {
   "cell_type": "markdown",
   "id": "f26b9574",
   "metadata": {},
   "source": [
    "### Testing"
   ]
  },
  {
   "cell_type": "code",
   "execution_count": 19,
   "id": "2247046c",
   "metadata": {},
   "outputs": [],
   "source": [
    "with open('../data/embeddings.pkl', 'rb') as f:\n",
    "    data = pickle.load(f)"
   ]
  },
  {
   "cell_type": "code",
   "execution_count": 20,
   "id": "667b1034",
   "metadata": {},
   "outputs": [],
   "source": [
    "job_titles = data['job_titles']\n",
    "career_embeddings = np.array(data['embeddings'])\n"
   ]
  },
  {
   "cell_type": "code",
   "execution_count": 21,
   "id": "6038bb34",
   "metadata": {},
   "outputs": [
    {
     "name": "stdout",
     "output_type": "stream",
     "text": [
      "Web Designer: 0.4774\n",
      "Front End Developer: 0.4741\n",
      "Full Stack Developer: 0.4219\n",
      "Back End Developer: 0.3815\n",
      "UI Developer: 0.3407\n",
      "Mobile App Developer: 0.2666\n",
      "AR/VR Developer: 0.2644\n",
      "Graphic Designer: 0.2490\n",
      "Blockchain Developer: 0.2418\n",
      "Motion Graphics Designer: 0.2408\n",
      "API Developer: 0.2362\n",
      "Computer Vision Engineer: 0.2315\n",
      "Digital Marketing Specialist: 0.2285\n",
      "SEO/SEM Specialist: 0.2254\n",
      "EdTech Content Developer: 0.2236\n"
     ]
    }
   ],
   "source": [
    "query = \"Interest in Web app, HTML, CSS\"\n",
    "\n",
    "query_embeddings = model.encode(query)\n",
    "\n",
    "\n",
    "sims = cosine_similarity([query_embeddings], career_embeddings)[0]\n",
    "\n",
    "\n",
    "top_n = 15\n",
    "top_indices = np.argsort(sims)[::-1][:top_n]\n",
    "\n",
    "\n",
    "for idx in top_indices:\n",
    "    print(f'{job_titles[idx]}: {sims[idx]:.4f}')\n"
   ]
  },
  {
   "cell_type": "code",
   "execution_count": null,
   "id": "7b43806c",
   "metadata": {},
   "outputs": [],
   "source": []
  },
  {
   "cell_type": "code",
   "execution_count": null,
   "id": "dc40f9de",
   "metadata": {},
   "outputs": [],
   "source": []
  }
 ],
 "metadata": {
  "kernelspec": {
   "display_name": "Python 3",
   "language": "python",
   "name": "python3"
  },
  "language_info": {
   "codemirror_mode": {
    "name": "ipython",
    "version": 3
   },
   "file_extension": ".py",
   "mimetype": "text/x-python",
   "name": "python",
   "nbconvert_exporter": "python",
   "pygments_lexer": "ipython3",
   "version": "3.11.9"
  }
 },
 "nbformat": 4,
 "nbformat_minor": 5
}
